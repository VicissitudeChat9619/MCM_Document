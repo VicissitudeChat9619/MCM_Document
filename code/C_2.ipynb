{
 "cells": [
  {
   "cell_type": "code",
   "execution_count": 64,
   "metadata": {},
   "outputs": [],
   "source": [
    "## C_2目标：没得奖的下一届有多大概率得奖\n",
    "import numpy as np\n",
    "import pandas as pd\n",
    "import matplotlib.pyplot as plt"
   ]
  },
  {
   "cell_type": "markdown",
   "metadata": {},
   "source": [
    "## 模型建立\n",
    "尝试建立一个神经网络模型学习往年来首次获奖的国家所具有的特征\n",
    "\n",
    "设$X=[x_1,x_2,x_3]$其中，\n",
    "| Symbols | meaning                      |\n",
    "|---------|------------------------------|\n",
    "| $x_1$   | 国家自参赛以来未有获奖的届数 |\n",
    "| $x_2$   | 国家拥有的运动员数量         |\n",
    "| $x_3$   | 此届的平均奖牌数量           |\n",
    "\n",
    "将$X$作为输入层，设立隐藏层为2层，神经元数量分别为4，3，输出层神经元数量为1表示获奖概率\n"
   ]
  },
  {
   "cell_type": "code",
   "execution_count": 65,
   "metadata": {},
   "outputs": [],
   "source": [
    "# 为了能得到样本，我们需要得到当前届每个国家参赛以来的获奖情\n",
    "# 况以及每一届的运动员数量和当前届的平均项目数量\n",
    "# 建立样本变量x\n",
    "x = [[], [], []]  # 后续通过插入进行样本插入\n",
    "Y = []"
   ]
  },
  {
   "cell_type": "code",
   "execution_count": 66,
   "metadata": {},
   "outputs": [
    {
     "data": {
      "text/plain": [
       "{1896: 8.23076923076923,\n",
       " 1900: 9.44,\n",
       " 1904: 10.666666666666666,\n",
       " 1906: 11.0,\n",
       " 1908: 9.535714285714286,\n",
       " 1912: 11.238095238095237,\n",
       " 1920: 11.34375,\n",
       " 1924: 11.23076923076923,\n",
       " 1928: 10.956521739130435,\n",
       " 1932: 11.652173913043478,\n",
       " 1936: 10.785714285714286,\n",
       " 1948: 12.0,\n",
       " 1952: 13.0,\n",
       " 1956: 13.153846153846153,\n",
       " 1960: 13.076923076923077,\n",
       " 1964: 13.214285714285714,\n",
       " 1968: 14.296296296296296,\n",
       " 1972: 14.161290322580646,\n",
       " 1976: 14.8,\n",
       " 1980: 15.133333333333333,\n",
       " 1984: 15.375,\n",
       " 1988: 15.529411764705882,\n",
       " 1992: 15.486486486486486,\n",
       " 1996: 15.1,\n",
       " 2000: 15.511627906976743,\n",
       " 2004: 15.55813953488372,\n",
       " 2008: 14.955555555555556,\n",
       " 2012: 15.581395348837209,\n",
       " 2016: 15.155555555555555,\n",
       " 2020: 14.358490566037736,\n",
       " 2024: 14.470588235294118}"
      ]
     },
     "execution_count": 66,
     "metadata": {},
     "output_type": "execute_result"
    }
   ],
   "source": [
    "def get_ENAS() -> dict:\n",
    "    programs_data = pd.read_csv(\"programs_data.csv\")\n",
    "    ENAS = {}\n",
    "    for y in range(1896, 2025):\n",
    "        try:\n",
    "            val = programs_data[str(y)].values\n",
    "        except:\n",
    "            continue\n",
    "        for i in range(len(val)):\n",
    "            try:\n",
    "                val[i] = int(val[i])\n",
    "            except:\n",
    "                val[i] = 0\n",
    "        # print(y,val)\n",
    "        val = np.array(val, dtype=\"int\")\n",
    "        val = val[val > 0]\n",
    "        ENAS[y] = val.mean()\n",
    "    return ENAS\n",
    "\n",
    "\n",
    "# 得到每一届的项目平均数量\n",
    "ENAS = get_ENAS()\n",
    "ENAS"
   ]
  },
  {
   "cell_type": "code",
   "execution_count": 67,
   "metadata": {},
   "outputs": [],
   "source": [
    "# 导入奖牌榜\n",
    "counts_data = pd.read_csv(\"counts_data.csv\")\n",
    "# 导入运动员榜\n",
    "athletes_data = pd.read_csv(\"athletes_data.csv\")\n",
    "# 这两个榜单都是从data.ipynb运行导出的csv文件"
   ]
  },
  {
   "cell_type": "code",
   "execution_count": 68,
   "metadata": {},
   "outputs": [
    {
     "name": "stdout",
     "output_type": "stream",
     "text": [
      "appear error country:CRT\n",
      "medalcount_list=[]\n",
      "p_year=[1906]\n"
     ]
    }
   ],
   "source": [
    "# 获得一共有哪些国家参加过比赛\n",
    "NOC_list = set(list(athletes_data[\"NOC\"]))\n",
    "# 对于每一个国家，获得它自参赛以来的每一届获奖数量\n",
    "counts_year_g = counts_data.groupby(\"Year\")\n",
    "athletes_noc_g = athletes_data.groupby(\"NOC\")\n",
    "for noc in NOC_list:\n",
    "    # 得到这个国家参加过哪届比赛\n",
    "    athletes_noc_data = athletes_noc_g.get_group(noc)\n",
    "    p_year = set(list(athletes_noc_data[\"Year\"]))\n",
    "    p_year = list(p_year)\n",
    "    p_year = sorted(p_year)\n",
    "    # 设立奖牌列表\n",
    "    medalcount_list = []\n",
    "    # 设立运动员数量列表\n",
    "    athletes_num_list = []\n",
    "    # 遍历得到这个国家参赛的每一届获奖数据以及每一年的远动员数量\n",
    "    for p in p_year:\n",
    "        if p == 1906:\n",
    "            continue\n",
    "        # 得到p年的获奖榜单\n",
    "        tem = counts_year_g.get_group(p)\n",
    "        # 得到p年的运动员名单\n",
    "        p_athletes = athletes_noc_data.groupby(\"Year\")\n",
    "        p_athletes = p_athletes.get_group(p)\n",
    "        # 查找是否有noc这个国家，有则插入Toal否则0\n",
    "        _noc_list = tem[\"NOC\"].values\n",
    "        if noc not in _noc_list:\n",
    "            medalcount_list.append(0)\n",
    "        else:\n",
    "            medalcount_list.append(tem[\"Total\"][tem[\"NOC\"] == noc].values[0])\n",
    "        # 得到运动员的数量\n",
    "        athletes_num = len(set(list(p_athletes[\"Name\"])))\n",
    "        athletes_num_list.append(athletes_num)\n",
    "    # 判断这个国家是否能成为样本\n",
    "    # 条件：首次比赛不能拿奖\n",
    "    try:\n",
    "        if medalcount_list[0] != 0:\n",
    "            continue\n",
    "    except:\n",
    "        print(f\"appear error country:{noc}\")\n",
    "        print(f\"medalcount_list={medalcount_list}\")\n",
    "        print(f\"p_year={p_year}\")\n",
    "        continue\n",
    "    # 记录未拿奖的次数x_1\n",
    "    x_1 = [1]\n",
    "    y = [0]\n",
    "    for num in medalcount_list[1:]:\n",
    "        if num == 0:\n",
    "            x_1.append(x_1[-1] + 1)\n",
    "            y.append(0)\n",
    "        else:\n",
    "            x_1.append(x_1[-1] + 1)\n",
    "            y.append(1)\n",
    "            break\n",
    "    # 记录前len(x_1)届的运动员数量\n",
    "    x_2 = athletes_num_list[0 : len(x_1)]\n",
    "    x_2 = np.array(x_2)\n",
    "    # 获得前len(x_1)届的平均运动项目数量\n",
    "    x_3 = [0.0] * len(x_1)\n",
    "    for i in range(len(x_1)):\n",
    "        x_3[i] = ENAS[p_year[i]]\n",
    "    # print(f\"x_1={x_1},\\nx_2={x_2},\\nx_3={x_3}\")\n",
    "    for i in range(len(x_1)):\n",
    "        try:\n",
    "            x[0].append(x_1[i])\n",
    "            x[1].append(x_2[i])\n",
    "            x[2].append(x_3[i])\n",
    "            Y.append(y[i])\n",
    "        except:\n",
    "            print(f\"i={i}\")"
   ]
  },
  {
   "cell_type": "code",
   "execution_count": 71,
   "metadata": {},
   "outputs": [
    {
     "name": "stdout",
     "output_type": "stream",
     "text": [
      "x.shape=(1862, 3),Y.shape=(1862,)\n"
     ]
    }
   ],
   "source": [
    "x = np.array(x)\n",
    "Y = np.array(Y)\n",
    "x = x.T\n",
    "print(f\"x.shape={x.shape},Y.shape={Y.shape}\")"
   ]
  },
  {
   "cell_type": "code",
   "execution_count": 76,
   "metadata": {},
   "outputs": [
    {
     "name": "stderr",
     "output_type": "stream",
     "text": [
      "c:\\Users\\22230\\AppData\\Local\\Programs\\Python\\Python312\\Lib\\site-packages\\keras\\src\\layers\\core\\dense.py:73: UserWarning: Do not pass an `input_shape`/`input_dim` argument to a layer. When using Sequential models, prefer using an `Input(shape)` object as the first layer in the model instead.\n",
      "  super().__init__(activity_regularizer=activity_regularizer, **kwargs)\n"
     ]
    },
    {
     "data": {
      "text/html": [
       "<pre style=\"white-space:pre;overflow-x:auto;line-height:normal;font-family:Menlo,'DejaVu Sans Mono',consolas,'Courier New',monospace\"><span style=\"font-weight: bold\">Model: \"sequential_3\"</span>\n",
       "</pre>\n"
      ],
      "text/plain": [
       "\u001b[1mModel: \"sequential_3\"\u001b[0m\n"
      ]
     },
     "metadata": {},
     "output_type": "display_data"
    },
    {
     "data": {
      "text/html": [
       "<pre style=\"white-space:pre;overflow-x:auto;line-height:normal;font-family:Menlo,'DejaVu Sans Mono',consolas,'Courier New',monospace\">┏━━━━━━━━━━━━━━━━━━━━━━━━━━━━━━━━━┳━━━━━━━━━━━━━━━━━━━━━━━━━━━┳━━━━━━━━━━━━┓\n",
       "┃<span style=\"font-weight: bold\"> Layer (type)                    </span>┃<span style=\"font-weight: bold\"> Output Shape              </span>┃<span style=\"font-weight: bold\">    Param # </span>┃\n",
       "┡━━━━━━━━━━━━━━━━━━━━━━━━━━━━━━━━━╇━━━━━━━━━━━━━━━━━━━━━━━━━━━╇━━━━━━━━━━━━┩\n",
       "│ dense_9 (<span style=\"color: #0087ff; text-decoration-color: #0087ff\">Dense</span>)                 │ (<span style=\"color: #00d7ff; text-decoration-color: #00d7ff\">None</span>, <span style=\"color: #00af00; text-decoration-color: #00af00\">4</span>)                 │         <span style=\"color: #00af00; text-decoration-color: #00af00\">16</span> │\n",
       "├─────────────────────────────────┼───────────────────────────┼────────────┤\n",
       "│ dense_10 (<span style=\"color: #0087ff; text-decoration-color: #0087ff\">Dense</span>)                │ (<span style=\"color: #00d7ff; text-decoration-color: #00d7ff\">None</span>, <span style=\"color: #00af00; text-decoration-color: #00af00\">3</span>)                 │         <span style=\"color: #00af00; text-decoration-color: #00af00\">15</span> │\n",
       "├─────────────────────────────────┼───────────────────────────┼────────────┤\n",
       "│ dense_11 (<span style=\"color: #0087ff; text-decoration-color: #0087ff\">Dense</span>)                │ (<span style=\"color: #00d7ff; text-decoration-color: #00d7ff\">None</span>, <span style=\"color: #00af00; text-decoration-color: #00af00\">1</span>)                 │          <span style=\"color: #00af00; text-decoration-color: #00af00\">4</span> │\n",
       "└─────────────────────────────────┴───────────────────────────┴────────────┘\n",
       "</pre>\n"
      ],
      "text/plain": [
       "┏━━━━━━━━━━━━━━━━━━━━━━━━━━━━━━━━━┳━━━━━━━━━━━━━━━━━━━━━━━━━━━┳━━━━━━━━━━━━┓\n",
       "┃\u001b[1m \u001b[0m\u001b[1mLayer (type)                   \u001b[0m\u001b[1m \u001b[0m┃\u001b[1m \u001b[0m\u001b[1mOutput Shape             \u001b[0m\u001b[1m \u001b[0m┃\u001b[1m \u001b[0m\u001b[1m   Param #\u001b[0m\u001b[1m \u001b[0m┃\n",
       "┡━━━━━━━━━━━━━━━━━━━━━━━━━━━━━━━━━╇━━━━━━━━━━━━━━━━━━━━━━━━━━━╇━━━━━━━━━━━━┩\n",
       "│ dense_9 (\u001b[38;5;33mDense\u001b[0m)                 │ (\u001b[38;5;45mNone\u001b[0m, \u001b[38;5;34m4\u001b[0m)                 │         \u001b[38;5;34m16\u001b[0m │\n",
       "├─────────────────────────────────┼───────────────────────────┼────────────┤\n",
       "│ dense_10 (\u001b[38;5;33mDense\u001b[0m)                │ (\u001b[38;5;45mNone\u001b[0m, \u001b[38;5;34m3\u001b[0m)                 │         \u001b[38;5;34m15\u001b[0m │\n",
       "├─────────────────────────────────┼───────────────────────────┼────────────┤\n",
       "│ dense_11 (\u001b[38;5;33mDense\u001b[0m)                │ (\u001b[38;5;45mNone\u001b[0m, \u001b[38;5;34m1\u001b[0m)                 │          \u001b[38;5;34m4\u001b[0m │\n",
       "└─────────────────────────────────┴───────────────────────────┴────────────┘\n"
      ]
     },
     "metadata": {},
     "output_type": "display_data"
    },
    {
     "data": {
      "text/html": [
       "<pre style=\"white-space:pre;overflow-x:auto;line-height:normal;font-family:Menlo,'DejaVu Sans Mono',consolas,'Courier New',monospace\"><span style=\"font-weight: bold\"> Total params: </span><span style=\"color: #00af00; text-decoration-color: #00af00\">35</span> (140.00 B)\n",
       "</pre>\n"
      ],
      "text/plain": [
       "\u001b[1m Total params: \u001b[0m\u001b[38;5;34m35\u001b[0m (140.00 B)\n"
      ]
     },
     "metadata": {},
     "output_type": "display_data"
    },
    {
     "data": {
      "text/html": [
       "<pre style=\"white-space:pre;overflow-x:auto;line-height:normal;font-family:Menlo,'DejaVu Sans Mono',consolas,'Courier New',monospace\"><span style=\"font-weight: bold\"> Trainable params: </span><span style=\"color: #00af00; text-decoration-color: #00af00\">35</span> (140.00 B)\n",
       "</pre>\n"
      ],
      "text/plain": [
       "\u001b[1m Trainable params: \u001b[0m\u001b[38;5;34m35\u001b[0m (140.00 B)\n"
      ]
     },
     "metadata": {},
     "output_type": "display_data"
    },
    {
     "data": {
      "text/html": [
       "<pre style=\"white-space:pre;overflow-x:auto;line-height:normal;font-family:Menlo,'DejaVu Sans Mono',consolas,'Courier New',monospace\"><span style=\"font-weight: bold\"> Non-trainable params: </span><span style=\"color: #00af00; text-decoration-color: #00af00\">0</span> (0.00 B)\n",
       "</pre>\n"
      ],
      "text/plain": [
       "\u001b[1m Non-trainable params: \u001b[0m\u001b[38;5;34m0\u001b[0m (0.00 B)\n"
      ]
     },
     "metadata": {},
     "output_type": "display_data"
    },
    {
     "name": "stdout",
     "output_type": "stream",
     "text": [
      "Epoch 1/100\n",
      "\u001b[1m94/94\u001b[0m \u001b[32m━━━━━━━━━━━━━━━━━━━━\u001b[0m\u001b[37m\u001b[0m \u001b[1m1s\u001b[0m 2ms/step - accuracy: 0.9619 - loss: 0.1647 - val_accuracy: 0.9661 - val_loss: 0.2126\n",
      "Epoch 2/100\n",
      "\u001b[1m94/94\u001b[0m \u001b[32m━━━━━━━━━━━━━━━━━━━━\u001b[0m\u001b[37m\u001b[0m \u001b[1m0s\u001b[0m 874us/step - accuracy: 0.9597 - loss: 0.2005 - val_accuracy: 0.9661 - val_loss: 0.1929\n",
      "Epoch 3/100\n",
      "\u001b[1m94/94\u001b[0m \u001b[32m━━━━━━━━━━━━━━━━━━━━\u001b[0m\u001b[37m\u001b[0m \u001b[1m0s\u001b[0m 901us/step - accuracy: 0.9619 - loss: 0.1656 - val_accuracy: 0.9661 - val_loss: 0.1817\n",
      "Epoch 4/100\n",
      "\u001b[1m94/94\u001b[0m \u001b[32m━━━━━━━━━━━━━━━━━━━━\u001b[0m\u001b[37m\u001b[0m \u001b[1m0s\u001b[0m 871us/step - accuracy: 0.9624 - loss: 0.1498 - val_accuracy: 0.9661 - val_loss: 0.1771\n",
      "Epoch 5/100\n",
      "\u001b[1m94/94\u001b[0m \u001b[32m━━━━━━━━━━━━━━━━━━━━\u001b[0m\u001b[37m\u001b[0m \u001b[1m0s\u001b[0m 897us/step - accuracy: 0.9689 - loss: 0.1426 - val_accuracy: 0.9661 - val_loss: 0.1744\n",
      "Epoch 6/100\n",
      "\u001b[1m94/94\u001b[0m \u001b[32m━━━━━━━━━━━━━━━━━━━━\u001b[0m\u001b[37m\u001b[0m \u001b[1m0s\u001b[0m 875us/step - accuracy: 0.9692 - loss: 0.1432 - val_accuracy: 0.9661 - val_loss: 0.1724\n",
      "Epoch 7/100\n",
      "\u001b[1m94/94\u001b[0m \u001b[32m━━━━━━━━━━━━━━━━━━━━\u001b[0m\u001b[37m\u001b[0m \u001b[1m0s\u001b[0m 827us/step - accuracy: 0.9682 - loss: 0.1422 - val_accuracy: 0.9661 - val_loss: 0.1694\n",
      "Epoch 8/100\n",
      "\u001b[1m94/94\u001b[0m \u001b[32m━━━━━━━━━━━━━━━━━━━━\u001b[0m\u001b[37m\u001b[0m \u001b[1m0s\u001b[0m 892us/step - accuracy: 0.9655 - loss: 0.1531 - val_accuracy: 0.9661 - val_loss: 0.1694\n",
      "Epoch 9/100\n",
      "\u001b[1m94/94\u001b[0m \u001b[32m━━━━━━━━━━━━━━━━━━━━\u001b[0m\u001b[37m\u001b[0m \u001b[1m0s\u001b[0m 865us/step - accuracy: 0.9668 - loss: 0.1608 - val_accuracy: 0.9661 - val_loss: 0.1698\n",
      "Epoch 10/100\n",
      "\u001b[1m94/94\u001b[0m \u001b[32m━━━━━━━━━━━━━━━━━━━━\u001b[0m\u001b[37m\u001b[0m \u001b[1m0s\u001b[0m 957us/step - accuracy: 0.9624 - loss: 0.1573 - val_accuracy: 0.9661 - val_loss: 0.1684\n",
      "Epoch 11/100\n",
      "\u001b[1m94/94\u001b[0m \u001b[32m━━━━━━━━━━━━━━━━━━━━\u001b[0m\u001b[37m\u001b[0m \u001b[1m0s\u001b[0m 1ms/step - accuracy: 0.9570 - loss: 0.1635 - val_accuracy: 0.9661 - val_loss: 0.1665\n",
      "Epoch 12/100\n",
      "\u001b[1m94/94\u001b[0m \u001b[32m━━━━━━━━━━━━━━━━━━━━\u001b[0m\u001b[37m\u001b[0m \u001b[1m0s\u001b[0m 907us/step - accuracy: 0.9672 - loss: 0.1421 - val_accuracy: 0.9661 - val_loss: 0.1642\n",
      "Epoch 13/100\n",
      "\u001b[1m94/94\u001b[0m \u001b[32m━━━━━━━━━━━━━━━━━━━━\u001b[0m\u001b[37m\u001b[0m \u001b[1m0s\u001b[0m 870us/step - accuracy: 0.9652 - loss: 0.1434 - val_accuracy: 0.9661 - val_loss: 0.1618\n",
      "Epoch 14/100\n",
      "\u001b[1m94/94\u001b[0m \u001b[32m━━━━━━━━━━━━━━━━━━━━\u001b[0m\u001b[37m\u001b[0m \u001b[1m0s\u001b[0m 903us/step - accuracy: 0.9661 - loss: 0.1476 - val_accuracy: 0.9661 - val_loss: 0.1612\n",
      "Epoch 15/100\n",
      "\u001b[1m94/94\u001b[0m \u001b[32m━━━━━━━━━━━━━━━━━━━━\u001b[0m\u001b[37m\u001b[0m \u001b[1m0s\u001b[0m 893us/step - accuracy: 0.9669 - loss: 0.1463 - val_accuracy: 0.9661 - val_loss: 0.1629\n",
      "Epoch 16/100\n",
      "\u001b[1m94/94\u001b[0m \u001b[32m━━━━━━━━━━━━━━━━━━━━\u001b[0m\u001b[37m\u001b[0m \u001b[1m0s\u001b[0m 912us/step - accuracy: 0.9609 - loss: 0.1602 - val_accuracy: 0.9661 - val_loss: 0.1622\n",
      "Epoch 17/100\n",
      "\u001b[1m94/94\u001b[0m \u001b[32m━━━━━━━━━━━━━━━━━━━━\u001b[0m\u001b[37m\u001b[0m \u001b[1m0s\u001b[0m 895us/step - accuracy: 0.9745 - loss: 0.1127 - val_accuracy: 0.9661 - val_loss: 0.1597\n",
      "Epoch 18/100\n",
      "\u001b[1m94/94\u001b[0m \u001b[32m━━━━━━━━━━━━━━━━━━━━\u001b[0m\u001b[37m\u001b[0m \u001b[1m0s\u001b[0m 881us/step - accuracy: 0.9606 - loss: 0.1540 - val_accuracy: 0.9661 - val_loss: 0.1608\n",
      "Epoch 19/100\n",
      "\u001b[1m94/94\u001b[0m \u001b[32m━━━━━━━━━━━━━━━━━━━━\u001b[0m\u001b[37m\u001b[0m \u001b[1m0s\u001b[0m 1ms/step - accuracy: 0.9651 - loss: 0.1368 - val_accuracy: 0.9661 - val_loss: 0.1595\n",
      "Epoch 20/100\n",
      "\u001b[1m94/94\u001b[0m \u001b[32m━━━━━━━━━━━━━━━━━━━━\u001b[0m\u001b[37m\u001b[0m \u001b[1m0s\u001b[0m 959us/step - accuracy: 0.9698 - loss: 0.1245 - val_accuracy: 0.9661 - val_loss: 0.1579\n",
      "Epoch 21/100\n",
      "\u001b[1m94/94\u001b[0m \u001b[32m━━━━━━━━━━━━━━━━━━━━\u001b[0m\u001b[37m\u001b[0m \u001b[1m0s\u001b[0m 960us/step - accuracy: 0.9702 - loss: 0.1304 - val_accuracy: 0.9661 - val_loss: 0.1577\n",
      "Epoch 22/100\n",
      "\u001b[1m94/94\u001b[0m \u001b[32m━━━━━━━━━━━━━━━━━━━━\u001b[0m\u001b[37m\u001b[0m \u001b[1m0s\u001b[0m 980us/step - accuracy: 0.9639 - loss: 0.1399 - val_accuracy: 0.9661 - val_loss: 0.1575\n",
      "Epoch 23/100\n",
      "\u001b[1m94/94\u001b[0m \u001b[32m━━━━━━━━━━━━━━━━━━━━\u001b[0m\u001b[37m\u001b[0m \u001b[1m0s\u001b[0m 921us/step - accuracy: 0.9667 - loss: 0.1351 - val_accuracy: 0.9661 - val_loss: 0.1548\n",
      "Epoch 24/100\n",
      "\u001b[1m94/94\u001b[0m \u001b[32m━━━━━━━━━━━━━━━━━━━━\u001b[0m\u001b[37m\u001b[0m \u001b[1m0s\u001b[0m 900us/step - accuracy: 0.9746 - loss: 0.1152 - val_accuracy: 0.9661 - val_loss: 0.1539\n",
      "Epoch 25/100\n",
      "\u001b[1m94/94\u001b[0m \u001b[32m━━━━━━━━━━━━━━━━━━━━\u001b[0m\u001b[37m\u001b[0m \u001b[1m0s\u001b[0m 1ms/step - accuracy: 0.9661 - loss: 0.1465 - val_accuracy: 0.9661 - val_loss: 0.1575\n",
      "Epoch 26/100\n",
      "\u001b[1m94/94\u001b[0m \u001b[32m━━━━━━━━━━━━━━━━━━━━\u001b[0m\u001b[37m\u001b[0m \u001b[1m0s\u001b[0m 1ms/step - accuracy: 0.9649 - loss: 0.1358 - val_accuracy: 0.9661 - val_loss: 0.1565\n",
      "Epoch 27/100\n",
      "\u001b[1m94/94\u001b[0m \u001b[32m━━━━━━━━━━━━━━━━━━━━\u001b[0m\u001b[37m\u001b[0m \u001b[1m0s\u001b[0m 905us/step - accuracy: 0.9742 - loss: 0.1124 - val_accuracy: 0.9661 - val_loss: 0.1557\n",
      "Epoch 28/100\n",
      "\u001b[1m94/94\u001b[0m \u001b[32m━━━━━━━━━━━━━━━━━━━━\u001b[0m\u001b[37m\u001b[0m \u001b[1m0s\u001b[0m 887us/step - accuracy: 0.9660 - loss: 0.1373 - val_accuracy: 0.9661 - val_loss: 0.1545\n",
      "Epoch 29/100\n",
      "\u001b[1m94/94\u001b[0m \u001b[32m━━━━━━━━━━━━━━━━━━━━\u001b[0m\u001b[37m\u001b[0m \u001b[1m0s\u001b[0m 906us/step - accuracy: 0.9726 - loss: 0.1203 - val_accuracy: 0.9661 - val_loss: 0.1544\n",
      "Epoch 30/100\n",
      "\u001b[1m94/94\u001b[0m \u001b[32m━━━━━━━━━━━━━━━━━━━━\u001b[0m\u001b[37m\u001b[0m \u001b[1m0s\u001b[0m 920us/step - accuracy: 0.9649 - loss: 0.1352 - val_accuracy: 0.9661 - val_loss: 0.1532\n",
      "Epoch 31/100\n",
      "\u001b[1m94/94\u001b[0m \u001b[32m━━━━━━━━━━━━━━━━━━━━\u001b[0m\u001b[37m\u001b[0m \u001b[1m0s\u001b[0m 950us/step - accuracy: 0.9689 - loss: 0.1315 - val_accuracy: 0.9661 - val_loss: 0.1549\n",
      "Epoch 32/100\n",
      "\u001b[1m94/94\u001b[0m \u001b[32m━━━━━━━━━━━━━━━━━━━━\u001b[0m\u001b[37m\u001b[0m \u001b[1m0s\u001b[0m 940us/step - accuracy: 0.9663 - loss: 0.1328 - val_accuracy: 0.9661 - val_loss: 0.1547\n",
      "Epoch 33/100\n",
      "\u001b[1m94/94\u001b[0m \u001b[32m━━━━━━━━━━━━━━━━━━━━\u001b[0m\u001b[37m\u001b[0m \u001b[1m0s\u001b[0m 1ms/step - accuracy: 0.9579 - loss: 0.1521 - val_accuracy: 0.9661 - val_loss: 0.1528\n",
      "Epoch 34/100\n",
      "\u001b[1m94/94\u001b[0m \u001b[32m━━━━━━━━━━━━━━━━━━━━\u001b[0m\u001b[37m\u001b[0m \u001b[1m0s\u001b[0m 893us/step - accuracy: 0.9692 - loss: 0.1304 - val_accuracy: 0.9661 - val_loss: 0.1521\n",
      "Epoch 35/100\n",
      "\u001b[1m94/94\u001b[0m \u001b[32m━━━━━━━━━━━━━━━━━━━━\u001b[0m\u001b[37m\u001b[0m \u001b[1m0s\u001b[0m 911us/step - accuracy: 0.9650 - loss: 0.1356 - val_accuracy: 0.9661 - val_loss: 0.1521\n",
      "Epoch 36/100\n",
      "\u001b[1m94/94\u001b[0m \u001b[32m━━━━━━━━━━━━━━━━━━━━\u001b[0m\u001b[37m\u001b[0m \u001b[1m0s\u001b[0m 978us/step - accuracy: 0.9670 - loss: 0.1368 - val_accuracy: 0.9661 - val_loss: 0.1525\n",
      "Epoch 37/100\n",
      "\u001b[1m94/94\u001b[0m \u001b[32m━━━━━━━━━━━━━━━━━━━━\u001b[0m\u001b[37m\u001b[0m \u001b[1m0s\u001b[0m 907us/step - accuracy: 0.9738 - loss: 0.1120 - val_accuracy: 0.9661 - val_loss: 0.1499\n",
      "Epoch 38/100\n",
      "\u001b[1m94/94\u001b[0m \u001b[32m━━━━━━━━━━━━━━━━━━━━\u001b[0m\u001b[37m\u001b[0m \u001b[1m0s\u001b[0m 919us/step - accuracy: 0.9624 - loss: 0.1420 - val_accuracy: 0.9661 - val_loss: 0.1542\n",
      "Epoch 39/100\n",
      "\u001b[1m94/94\u001b[0m \u001b[32m━━━━━━━━━━━━━━━━━━━━\u001b[0m\u001b[37m\u001b[0m \u001b[1m0s\u001b[0m 924us/step - accuracy: 0.9642 - loss: 0.1355 - val_accuracy: 0.9661 - val_loss: 0.1543\n",
      "Epoch 40/100\n",
      "\u001b[1m94/94\u001b[0m \u001b[32m━━━━━━━━━━━━━━━━━━━━\u001b[0m\u001b[37m\u001b[0m \u001b[1m0s\u001b[0m 887us/step - accuracy: 0.9612 - loss: 0.1363 - val_accuracy: 0.9661 - val_loss: 0.1497\n",
      "Epoch 41/100\n",
      "\u001b[1m94/94\u001b[0m \u001b[32m━━━━━━━━━━━━━━━━━━━━\u001b[0m\u001b[37m\u001b[0m \u001b[1m0s\u001b[0m 880us/step - accuracy: 0.9539 - loss: 0.1692 - val_accuracy: 0.9661 - val_loss: 0.1583\n",
      "Epoch 42/100\n",
      "\u001b[1m94/94\u001b[0m \u001b[32m━━━━━━━━━━━━━━━━━━━━\u001b[0m\u001b[37m\u001b[0m \u001b[1m0s\u001b[0m 884us/step - accuracy: 0.9735 - loss: 0.1201 - val_accuracy: 0.9661 - val_loss: 0.1524\n",
      "Epoch 43/100\n",
      "\u001b[1m94/94\u001b[0m \u001b[32m━━━━━━━━━━━━━━━━━━━━\u001b[0m\u001b[37m\u001b[0m \u001b[1m0s\u001b[0m 918us/step - accuracy: 0.9632 - loss: 0.1514 - val_accuracy: 0.9661 - val_loss: 0.1540\n",
      "Epoch 44/100\n",
      "\u001b[1m94/94\u001b[0m \u001b[32m━━━━━━━━━━━━━━━━━━━━\u001b[0m\u001b[37m\u001b[0m \u001b[1m0s\u001b[0m 885us/step - accuracy: 0.9533 - loss: 0.1806 - val_accuracy: 0.9661 - val_loss: 0.1560\n",
      "Epoch 45/100\n",
      "\u001b[1m94/94\u001b[0m \u001b[32m━━━━━━━━━━━━━━━━━━━━\u001b[0m\u001b[37m\u001b[0m \u001b[1m0s\u001b[0m 894us/step - accuracy: 0.9644 - loss: 0.1350 - val_accuracy: 0.9661 - val_loss: 0.1523\n",
      "Epoch 46/100\n",
      "\u001b[1m94/94\u001b[0m \u001b[32m━━━━━━━━━━━━━━━━━━━━\u001b[0m\u001b[37m\u001b[0m \u001b[1m0s\u001b[0m 883us/step - accuracy: 0.9644 - loss: 0.1360 - val_accuracy: 0.9661 - val_loss: 0.1546\n",
      "Epoch 47/100\n",
      "\u001b[1m94/94\u001b[0m \u001b[32m━━━━━━━━━━━━━━━━━━━━\u001b[0m\u001b[37m\u001b[0m \u001b[1m0s\u001b[0m 953us/step - accuracy: 0.9726 - loss: 0.1056 - val_accuracy: 0.9661 - val_loss: 0.1502\n",
      "Epoch 48/100\n",
      "\u001b[1m94/94\u001b[0m \u001b[32m━━━━━━━━━━━━━━━━━━━━\u001b[0m\u001b[37m\u001b[0m \u001b[1m0s\u001b[0m 1ms/step - accuracy: 0.9720 - loss: 0.1144 - val_accuracy: 0.9661 - val_loss: 0.1501\n",
      "Epoch 49/100\n",
      "\u001b[1m94/94\u001b[0m \u001b[32m━━━━━━━━━━━━━━━━━━━━\u001b[0m\u001b[37m\u001b[0m \u001b[1m0s\u001b[0m 894us/step - accuracy: 0.9669 - loss: 0.1300 - val_accuracy: 0.9661 - val_loss: 0.1512\n",
      "Epoch 50/100\n",
      "\u001b[1m94/94\u001b[0m \u001b[32m━━━━━━━━━━━━━━━━━━━━\u001b[0m\u001b[37m\u001b[0m \u001b[1m0s\u001b[0m 874us/step - accuracy: 0.9648 - loss: 0.1412 - val_accuracy: 0.9661 - val_loss: 0.1589\n",
      "Epoch 51/100\n",
      "\u001b[1m94/94\u001b[0m \u001b[32m━━━━━━━━━━━━━━━━━━━━\u001b[0m\u001b[37m\u001b[0m \u001b[1m0s\u001b[0m 866us/step - accuracy: 0.9684 - loss: 0.1260 - val_accuracy: 0.9661 - val_loss: 0.1512\n",
      "Epoch 52/100\n",
      "\u001b[1m94/94\u001b[0m \u001b[32m━━━━━━━━━━━━━━━━━━━━\u001b[0m\u001b[37m\u001b[0m \u001b[1m0s\u001b[0m 878us/step - accuracy: 0.9669 - loss: 0.1300 - val_accuracy: 0.9661 - val_loss: 0.1526\n",
      "Epoch 53/100\n",
      "\u001b[1m94/94\u001b[0m \u001b[32m━━━━━━━━━━━━━━━━━━━━\u001b[0m\u001b[37m\u001b[0m \u001b[1m0s\u001b[0m 895us/step - accuracy: 0.9683 - loss: 0.1242 - val_accuracy: 0.9661 - val_loss: 0.1500\n",
      "Epoch 54/100\n",
      "\u001b[1m94/94\u001b[0m \u001b[32m━━━━━━━━━━━━━━━━━━━━\u001b[0m\u001b[37m\u001b[0m \u001b[1m0s\u001b[0m 870us/step - accuracy: 0.9724 - loss: 0.1100 - val_accuracy: 0.9661 - val_loss: 0.1495\n",
      "Epoch 55/100\n",
      "\u001b[1m94/94\u001b[0m \u001b[32m━━━━━━━━━━━━━━━━━━━━\u001b[0m\u001b[37m\u001b[0m \u001b[1m0s\u001b[0m 876us/step - accuracy: 0.9672 - loss: 0.1272 - val_accuracy: 0.9661 - val_loss: 0.1519\n",
      "Epoch 56/100\n",
      "\u001b[1m94/94\u001b[0m \u001b[32m━━━━━━━━━━━━━━━━━━━━\u001b[0m\u001b[37m\u001b[0m \u001b[1m0s\u001b[0m 921us/step - accuracy: 0.9625 - loss: 0.1440 - val_accuracy: 0.9661 - val_loss: 0.1542\n",
      "Epoch 57/100\n",
      "\u001b[1m94/94\u001b[0m \u001b[32m━━━━━━━━━━━━━━━━━━━━\u001b[0m\u001b[37m\u001b[0m \u001b[1m0s\u001b[0m 884us/step - accuracy: 0.9711 - loss: 0.1136 - val_accuracy: 0.9661 - val_loss: 0.1486\n",
      "Epoch 58/100\n",
      "\u001b[1m94/94\u001b[0m \u001b[32m━━━━━━━━━━━━━━━━━━━━\u001b[0m\u001b[37m\u001b[0m \u001b[1m0s\u001b[0m 888us/step - accuracy: 0.9724 - loss: 0.1161 - val_accuracy: 0.9661 - val_loss: 0.1488\n",
      "Epoch 59/100\n",
      "\u001b[1m94/94\u001b[0m \u001b[32m━━━━━━━━━━━━━━━━━━━━\u001b[0m\u001b[37m\u001b[0m \u001b[1m0s\u001b[0m 871us/step - accuracy: 0.9582 - loss: 0.1540 - val_accuracy: 0.9661 - val_loss: 0.1529\n",
      "Epoch 60/100\n",
      "\u001b[1m94/94\u001b[0m \u001b[32m━━━━━━━━━━━━━━━━━━━━\u001b[0m\u001b[37m\u001b[0m \u001b[1m0s\u001b[0m 857us/step - accuracy: 0.9659 - loss: 0.1334 - val_accuracy: 0.9661 - val_loss: 0.1478\n",
      "Epoch 61/100\n",
      "\u001b[1m94/94\u001b[0m \u001b[32m━━━━━━━━━━━━━━━━━━━━\u001b[0m\u001b[37m\u001b[0m \u001b[1m0s\u001b[0m 877us/step - accuracy: 0.9654 - loss: 0.1326 - val_accuracy: 0.9661 - val_loss: 0.1520\n",
      "Epoch 62/100\n",
      "\u001b[1m94/94\u001b[0m \u001b[32m━━━━━━━━━━━━━━━━━━━━\u001b[0m\u001b[37m\u001b[0m \u001b[1m0s\u001b[0m 827us/step - accuracy: 0.9645 - loss: 0.1394 - val_accuracy: 0.9661 - val_loss: 0.1476\n",
      "Epoch 63/100\n",
      "\u001b[1m94/94\u001b[0m \u001b[32m━━━━━━━━━━━━━━━━━━━━\u001b[0m\u001b[37m\u001b[0m \u001b[1m0s\u001b[0m 831us/step - accuracy: 0.9677 - loss: 0.1279 - val_accuracy: 0.9661 - val_loss: 0.1496\n",
      "Epoch 64/100\n",
      "\u001b[1m94/94\u001b[0m \u001b[32m━━━━━━━━━━━━━━━━━━━━\u001b[0m\u001b[37m\u001b[0m \u001b[1m0s\u001b[0m 860us/step - accuracy: 0.9721 - loss: 0.1136 - val_accuracy: 0.9661 - val_loss: 0.1476\n",
      "Epoch 65/100\n",
      "\u001b[1m94/94\u001b[0m \u001b[32m━━━━━━━━━━━━━━━━━━━━\u001b[0m\u001b[37m\u001b[0m \u001b[1m0s\u001b[0m 876us/step - accuracy: 0.9595 - loss: 0.1467 - val_accuracy: 0.9661 - val_loss: 0.1505\n",
      "Epoch 66/100\n",
      "\u001b[1m94/94\u001b[0m \u001b[32m━━━━━━━━━━━━━━━━━━━━\u001b[0m\u001b[37m\u001b[0m \u001b[1m0s\u001b[0m 827us/step - accuracy: 0.9705 - loss: 0.1197 - val_accuracy: 0.9661 - val_loss: 0.1491\n",
      "Epoch 67/100\n",
      "\u001b[1m94/94\u001b[0m \u001b[32m━━━━━━━━━━━━━━━━━━━━\u001b[0m\u001b[37m\u001b[0m \u001b[1m0s\u001b[0m 907us/step - accuracy: 0.9630 - loss: 0.1495 - val_accuracy: 0.9661 - val_loss: 0.1509\n",
      "Epoch 68/100\n",
      "\u001b[1m94/94\u001b[0m \u001b[32m━━━━━━━━━━━━━━━━━━━━\u001b[0m\u001b[37m\u001b[0m \u001b[1m0s\u001b[0m 941us/step - accuracy: 0.9702 - loss: 0.1133 - val_accuracy: 0.9661 - val_loss: 0.1481\n",
      "Epoch 69/100\n",
      "\u001b[1m94/94\u001b[0m \u001b[32m━━━━━━━━━━━━━━━━━━━━\u001b[0m\u001b[37m\u001b[0m \u001b[1m0s\u001b[0m 868us/step - accuracy: 0.9664 - loss: 0.1273 - val_accuracy: 0.9661 - val_loss: 0.1523\n",
      "Epoch 70/100\n",
      "\u001b[1m94/94\u001b[0m \u001b[32m━━━━━━━━━━━━━━━━━━━━\u001b[0m\u001b[37m\u001b[0m \u001b[1m0s\u001b[0m 853us/step - accuracy: 0.9733 - loss: 0.1113 - val_accuracy: 0.9661 - val_loss: 0.1499\n",
      "Epoch 71/100\n",
      "\u001b[1m94/94\u001b[0m \u001b[32m━━━━━━━━━━━━━━━━━━━━\u001b[0m\u001b[37m\u001b[0m \u001b[1m0s\u001b[0m 857us/step - accuracy: 0.9649 - loss: 0.1370 - val_accuracy: 0.9661 - val_loss: 0.1532\n",
      "Epoch 72/100\n",
      "\u001b[1m94/94\u001b[0m \u001b[32m━━━━━━━━━━━━━━━━━━━━\u001b[0m\u001b[37m\u001b[0m \u001b[1m0s\u001b[0m 884us/step - accuracy: 0.9670 - loss: 0.1261 - val_accuracy: 0.9661 - val_loss: 0.1511\n",
      "Epoch 73/100\n",
      "\u001b[1m94/94\u001b[0m \u001b[32m━━━━━━━━━━━━━━━━━━━━\u001b[0m\u001b[37m\u001b[0m \u001b[1m0s\u001b[0m 836us/step - accuracy: 0.9609 - loss: 0.1506 - val_accuracy: 0.9661 - val_loss: 0.1527\n",
      "Epoch 74/100\n",
      "\u001b[1m94/94\u001b[0m \u001b[32m━━━━━━━━━━━━━━━━━━━━\u001b[0m\u001b[37m\u001b[0m \u001b[1m0s\u001b[0m 1ms/step - accuracy: 0.9725 - loss: 0.1089 - val_accuracy: 0.9661 - val_loss: 0.1470\n",
      "Epoch 75/100\n",
      "\u001b[1m94/94\u001b[0m \u001b[32m━━━━━━━━━━━━━━━━━━━━\u001b[0m\u001b[37m\u001b[0m \u001b[1m0s\u001b[0m 847us/step - accuracy: 0.9672 - loss: 0.1287 - val_accuracy: 0.9661 - val_loss: 0.1504\n",
      "Epoch 76/100\n",
      "\u001b[1m94/94\u001b[0m \u001b[32m━━━━━━━━━━━━━━━━━━━━\u001b[0m\u001b[37m\u001b[0m \u001b[1m0s\u001b[0m 895us/step - accuracy: 0.9652 - loss: 0.1269 - val_accuracy: 0.9661 - val_loss: 0.1475\n",
      "Epoch 77/100\n",
      "\u001b[1m94/94\u001b[0m \u001b[32m━━━━━━━━━━━━━━━━━━━━\u001b[0m\u001b[37m\u001b[0m \u001b[1m0s\u001b[0m 886us/step - accuracy: 0.9696 - loss: 0.1155 - val_accuracy: 0.9661 - val_loss: 0.1453\n",
      "Epoch 78/100\n",
      "\u001b[1m94/94\u001b[0m \u001b[32m━━━━━━━━━━━━━━━━━━━━\u001b[0m\u001b[37m\u001b[0m \u001b[1m0s\u001b[0m 899us/step - accuracy: 0.9663 - loss: 0.1333 - val_accuracy: 0.9661 - val_loss: 0.1497\n",
      "Epoch 79/100\n",
      "\u001b[1m94/94\u001b[0m \u001b[32m━━━━━━━━━━━━━━━━━━━━\u001b[0m\u001b[37m\u001b[0m \u001b[1m0s\u001b[0m 874us/step - accuracy: 0.9560 - loss: 0.1659 - val_accuracy: 0.9661 - val_loss: 0.1546\n",
      "Epoch 80/100\n",
      "\u001b[1m94/94\u001b[0m \u001b[32m━━━━━━━━━━━━━━━━━━━━\u001b[0m\u001b[37m\u001b[0m \u001b[1m0s\u001b[0m 876us/step - accuracy: 0.9672 - loss: 0.1300 - val_accuracy: 0.9661 - val_loss: 0.1505\n",
      "Epoch 81/100\n",
      "\u001b[1m94/94\u001b[0m \u001b[32m━━━━━━━━━━━━━━━━━━━━\u001b[0m\u001b[37m\u001b[0m \u001b[1m0s\u001b[0m 884us/step - accuracy: 0.9662 - loss: 0.1370 - val_accuracy: 0.9661 - val_loss: 0.1535\n",
      "Epoch 82/100\n",
      "\u001b[1m94/94\u001b[0m \u001b[32m━━━━━━━━━━━━━━━━━━━━\u001b[0m\u001b[37m\u001b[0m \u001b[1m0s\u001b[0m 880us/step - accuracy: 0.9635 - loss: 0.1261 - val_accuracy: 0.9661 - val_loss: 0.1480\n",
      "Epoch 83/100\n",
      "\u001b[1m94/94\u001b[0m \u001b[32m━━━━━━━━━━━━━━━━━━━━\u001b[0m\u001b[37m\u001b[0m \u001b[1m0s\u001b[0m 879us/step - accuracy: 0.9691 - loss: 0.1166 - val_accuracy: 0.9661 - val_loss: 0.1461\n",
      "Epoch 84/100\n",
      "\u001b[1m94/94\u001b[0m \u001b[32m━━━━━━━━━━━━━━━━━━━━\u001b[0m\u001b[37m\u001b[0m \u001b[1m0s\u001b[0m 857us/step - accuracy: 0.9713 - loss: 0.1185 - val_accuracy: 0.9661 - val_loss: 0.1522\n",
      "Epoch 85/100\n",
      "\u001b[1m94/94\u001b[0m \u001b[32m━━━━━━━━━━━━━━━━━━━━\u001b[0m\u001b[37m\u001b[0m \u001b[1m0s\u001b[0m 867us/step - accuracy: 0.9684 - loss: 0.1213 - val_accuracy: 0.9661 - val_loss: 0.1483\n",
      "Epoch 86/100\n",
      "\u001b[1m94/94\u001b[0m \u001b[32m━━━━━━━━━━━━━━━━━━━━\u001b[0m\u001b[37m\u001b[0m \u001b[1m0s\u001b[0m 828us/step - accuracy: 0.9669 - loss: 0.1316 - val_accuracy: 0.9661 - val_loss: 0.1484\n",
      "Epoch 87/100\n",
      "\u001b[1m94/94\u001b[0m \u001b[32m━━━━━━━━━━━━━━━━━━━━\u001b[0m\u001b[37m\u001b[0m \u001b[1m0s\u001b[0m 885us/step - accuracy: 0.9670 - loss: 0.1323 - val_accuracy: 0.9661 - val_loss: 0.1506\n",
      "Epoch 88/100\n",
      "\u001b[1m94/94\u001b[0m \u001b[32m━━━━━━━━━━━━━━━━━━━━\u001b[0m\u001b[37m\u001b[0m \u001b[1m0s\u001b[0m 953us/step - accuracy: 0.9691 - loss: 0.1189 - val_accuracy: 0.9661 - val_loss: 0.1503\n",
      "Epoch 89/100\n",
      "\u001b[1m94/94\u001b[0m \u001b[32m━━━━━━━━━━━━━━━━━━━━\u001b[0m\u001b[37m\u001b[0m \u001b[1m0s\u001b[0m 894us/step - accuracy: 0.9673 - loss: 0.1265 - val_accuracy: 0.9661 - val_loss: 0.1490\n",
      "Epoch 90/100\n",
      "\u001b[1m94/94\u001b[0m \u001b[32m━━━━━━━━━━━━━━━━━━━━\u001b[0m\u001b[37m\u001b[0m \u001b[1m0s\u001b[0m 865us/step - accuracy: 0.9700 - loss: 0.1146 - val_accuracy: 0.9661 - val_loss: 0.1484\n",
      "Epoch 91/100\n",
      "\u001b[1m94/94\u001b[0m \u001b[32m━━━━━━━━━━━━━━━━━━━━\u001b[0m\u001b[37m\u001b[0m \u001b[1m0s\u001b[0m 853us/step - accuracy: 0.9789 - loss: 0.0933 - val_accuracy: 0.9661 - val_loss: 0.1482\n",
      "Epoch 92/100\n",
      "\u001b[1m94/94\u001b[0m \u001b[32m━━━━━━━━━━━━━━━━━━━━\u001b[0m\u001b[37m\u001b[0m \u001b[1m0s\u001b[0m 824us/step - accuracy: 0.9576 - loss: 0.1505 - val_accuracy: 0.9661 - val_loss: 0.1491\n",
      "Epoch 93/100\n",
      "\u001b[1m94/94\u001b[0m \u001b[32m━━━━━━━━━━━━━━━━━━━━\u001b[0m\u001b[37m\u001b[0m \u001b[1m0s\u001b[0m 830us/step - accuracy: 0.9622 - loss: 0.1444 - val_accuracy: 0.9661 - val_loss: 0.1483\n",
      "Epoch 94/100\n",
      "\u001b[1m94/94\u001b[0m \u001b[32m━━━━━━━━━━━━━━━━━━━━\u001b[0m\u001b[37m\u001b[0m \u001b[1m0s\u001b[0m 860us/step - accuracy: 0.9626 - loss: 0.1414 - val_accuracy: 0.9661 - val_loss: 0.1521\n",
      "Epoch 95/100\n",
      "\u001b[1m94/94\u001b[0m \u001b[32m━━━━━━━━━━━━━━━━━━━━\u001b[0m\u001b[37m\u001b[0m \u001b[1m0s\u001b[0m 909us/step - accuracy: 0.9717 - loss: 0.1178 - val_accuracy: 0.9661 - val_loss: 0.1499\n",
      "Epoch 96/100\n",
      "\u001b[1m94/94\u001b[0m \u001b[32m━━━━━━━━━━━━━━━━━━━━\u001b[0m\u001b[37m\u001b[0m \u001b[1m0s\u001b[0m 897us/step - accuracy: 0.9698 - loss: 0.1226 - val_accuracy: 0.9661 - val_loss: 0.1499\n",
      "Epoch 97/100\n",
      "\u001b[1m94/94\u001b[0m \u001b[32m━━━━━━━━━━━━━━━━━━━━\u001b[0m\u001b[37m\u001b[0m \u001b[1m0s\u001b[0m 947us/step - accuracy: 0.9619 - loss: 0.1571 - val_accuracy: 0.9661 - val_loss: 0.1530\n",
      "Epoch 98/100\n",
      "\u001b[1m94/94\u001b[0m \u001b[32m━━━━━━━━━━━━━━━━━━━━\u001b[0m\u001b[37m\u001b[0m \u001b[1m0s\u001b[0m 880us/step - accuracy: 0.9642 - loss: 0.1368 - val_accuracy: 0.9661 - val_loss: 0.1522\n",
      "Epoch 99/100\n",
      "\u001b[1m94/94\u001b[0m \u001b[32m━━━━━━━━━━━━━━━━━━━━\u001b[0m\u001b[37m\u001b[0m \u001b[1m0s\u001b[0m 895us/step - accuracy: 0.9702 - loss: 0.1175 - val_accuracy: 0.9661 - val_loss: 0.1496\n",
      "Epoch 100/100\n",
      "\u001b[1m94/94\u001b[0m \u001b[32m━━━━━━━━━━━━━━━━━━━━\u001b[0m\u001b[37m\u001b[0m \u001b[1m0s\u001b[0m 842us/step - accuracy: 0.9621 - loss: 0.1345 - val_accuracy: 0.9661 - val_loss: 0.1502\n"
     ]
    }
   ],
   "source": [
    "# 接下来进行学习：\n",
    "import tensorflow as tf\n",
    "from tensorflow.keras import Sequential\n",
    "from tensorflow.keras.layers import Dense\n",
    "\n",
    "# 构建模型\n",
    "model = Sequential(\n",
    "    [\n",
    "        Dense(4, input_dim=3, activation=\"relu\"),  # 输入层和第1隐藏层\n",
    "        Dense(3, activation=\"relu\"),  # 第2隐藏层\n",
    "        Dense(1, activation=\"sigmoid\"),  # 输出层，用于概率预测\n",
    "    ]\n",
    ")\n",
    "\n",
    "# 编译模型\n",
    "model.compile(\n",
    "    optimizer=\"adam\", loss=\"binary_crossentropy\", metrics=[\"accuracy\"]  # 二分类问题\n",
    ")\n",
    "\n",
    "# 模型概览\n",
    "model.summary()\n",
    "\n",
    "X_train = x\n",
    "y_train = Y\n",
    "# 训练模型\n",
    "history = model.fit(X_train, y_train, epochs=100, batch_size=16, validation_split=0.2)\n"
   ]
  },
  {
   "cell_type": "code",
   "execution_count": 77,
   "metadata": {},
   "outputs": [
    {
     "data": {
      "image/png": "[encoded data removed]",
      "text/plain": [
       "<Figure size 1200x400 with 2 Axes>"
      ]
     },
     "metadata": {},
     "output_type": "display_data"
    }
   ],
   "source": [
    "# 提取历史记录\n",
    "loss = history.history['loss']  # 训练损失\n",
    "val_loss = history.history['val_loss']  # 验证损失\n",
    "accuracy = history.history['accuracy']  # 训练准确率\n",
    "val_accuracy = history.history['val_accuracy']  # 验证准确率\n",
    "\n",
    "# 绘制学习曲线：损失\n",
    "plt.figure(figsize=(12, 4))\n",
    "plt.subplot(1, 2, 1)\n",
    "plt.plot(loss, label='Training Loss')\n",
    "plt.plot(val_loss, label='Validation Loss')\n",
    "plt.xlabel('Epochs')\n",
    "plt.ylabel('Loss')\n",
    "plt.title('Loss Curve')\n",
    "plt.legend()\n",
    "\n",
    "# 绘制学习曲线：准确率\n",
    "plt.subplot(1, 2, 2)\n",
    "plt.plot(accuracy, label='Training Accuracy')\n",
    "plt.plot(val_accuracy, label='Validation Accuracy')\n",
    "plt.xlabel('Epochs')\n",
    "plt.ylabel('Accuracy')\n",
    "plt.title('Accuracy Curve')\n",
    "plt.legend()\n",
    "\n",
    "plt.show()"
   ]
  }
 ],
 "metadata": {
  "kernelspec": {
   "display_name": "Python 3",
   "language": "python",
   "name": "python3"
  },
  "language_info": {
   "codemirror_mode": {
    "name": "ipython",
    "version": 3
   },
   "file_extension": ".py",
   "mimetype": "text/x-python",
   "name": "python",
   "nbconvert_exporter": "python",
   "pygments_lexer": "ipython3",
   "version": "3.12.2"
  }
 },
 "nbformat": 4,
 "nbformat_minor": 2
}
