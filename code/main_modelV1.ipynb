{
 "cells": [
  {
   "cell_type": "code",
   "execution_count": 1,
   "metadata": {},
   "outputs": [],
   "source": [
    "# 标准起手式\n",
    "from IPython.core.interactiveshell import InteractiveShell\n",
    "InteractiveShell.ast_node_interactivity = 'all'\n",
    "import pandas as pd\n",
    "import numpy as np\n",
    "import matplotlib.pyplot as plt\n",
    "import scipy.stats as st\n",
    "import scipy.io as sio\n",
    "import re\n",
    "import pycountry\n",
    "import numpy as np\n",
    "import pandas as pd\n",
    "import matplotlib.pyplot as plt\n",
    "from sklearn.datasets import load_diabetes\n",
    "from sklearn.model_selection import train_test_split\n",
    "from sklearn.metrics import mean_squared_error, r2_score\n",
    "from sklearn.metrics import make_scorer\n",
    "from sklearn.ensemble import ExtraTreesRegressor, RandomForestRegressor\n",
    "from sklearn.base import BaseEstimator, TransformerMixin\n",
    "from sklearn.pipeline import Pipeline\n",
    "from tpot import TPOTRegressor\n",
    "from sklearn.ensemble import RandomForestRegressor\n",
    "from sklearn.feature_selection import SelectPercentile, f_regression\n",
    "from sklearn.pipeline import make_pipeline\n",
    "from tpot.export_utils import set_param_recursive"
   ]
  },
  {
   "cell_type": "code",
   "execution_count": 2,
   "metadata": {},
   "outputs": [],
   "source": [
    "map_NOCandSPE_to_YEARandMEDAL = pd.read_csv('2025_Problem_C_Data/mainDATA.csv')"
   ]
  },
  {
   "cell_type": "code",
   "execution_count": 7,
   "metadata": {},
   "outputs": [
    {
     "data": {
      "text/plain": [
       "RangeIndex(start=0, stop=76, step=1)"
      ]
     },
     "execution_count": 7,
     "metadata": {},
     "output_type": "execute_result"
    }
   ],
   "source": [
    "map_NOCandSPE_to_YEARandMEDAL.index"
   ]
  },
  {
   "cell_type": "code",
   "execution_count": 8,
   "metadata": {},
   "outputs": [
    {
     "ename": "SyntaxError",
     "evalue": "invalid syntax (2493337642.py, line 1)",
     "output_type": "error",
     "traceback": [
      "\u001b[1;36m  Cell \u001b[1;32mIn[8], line 1\u001b[1;36m\u001b[0m\n\u001b[1;33m    map_NOCandSPE_to_YEARandMEDAL[]\u001b[0m\n\u001b[1;37m                                  ^\u001b[0m\n\u001b[1;31mSyntaxError\u001b[0m\u001b[1;31m:\u001b[0m invalid syntax\n"
     ]
    }
   ],
   "source": [
    "map_NOCandSPE_to_YEARandMEDAL[]"
   ]
  },
  {
   "cell_type": "code",
   "execution_count": null,
   "metadata": {},
   "outputs": [],
   "source": [
    "TOTAL_DATA_missingY = {}\n",
    "for iNOC in NOCs:\n",
    "      for iYear in ['2028']:\n",
    "            if int(iYear) in [1916 + i * 4 for i in range(1,LENN+1)]:\n",
    "                  continue\n",
    "            if int(iYear) in [1944 + i * 4 for i in range(1,LENN+1)]:\n",
    "                  continue\n",
    "            TOTAL_DATA_missingY[(iNOC,iYear)] = {}\n",
    "            \n",
    "            print(iNOC,iYear)\n",
    "\n",
    "            for i in range(1,LENN+1):\n",
    "                  TOTAL_DATA_missingY[(iNOC,iYear)]['Year-'+str(i) + '-Medals'] = GoldMedals_df[iNOC][int(iYear)-i*4]\n",
    "                  ENAS = AdvantageperNOC_mp[iNOC][str(int(iYear)-i*4)]\n",
    "                  TOTAL_DATA_missingY[(iNOC,iYear)]['Year-'+str(i) + '-ENAS'] = SportEventsSum[str(int(iYear)-i*4)][ENAS]\n",
    "            if hosts_mp[int(iYear)] == iNOC:\n",
    "                  TOTAL_DATA_missingY[(iNOC,iYear)]['if host'] = 1\n",
    "            else:\n",
    "                  TOTAL_DATA_missingY[(iNOC,iYear)]['if host'] = 0\n",
    "pd.DataFrame(TOTAL_DATA_missingY).T"
   ]
  }
 ],
 "metadata": {
  "kernelspec": {
   "display_name": "mcm-venv",
   "language": "python",
   "name": "python3"
  },
  "language_info": {
   "codemirror_mode": {
    "name": "ipython",
    "version": 3
   },
   "file_extension": ".py",
   "mimetype": "text/x-python",
   "name": "python",
   "nbconvert_exporter": "python",
   "pygments_lexer": "ipython3",
   "version": "3.12.0"
  }
 },
 "nbformat": 4,
 "nbformat_minor": 2
}
