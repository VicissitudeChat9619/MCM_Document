{
 "cells": [
  {
   "cell_type": "code",
   "execution_count": null,
   "metadata": {},
   "outputs": [],
   "source": [
    "map_NOCandSPE_to_YEARandMEDAL = pd.read_csv('2025_Problem_C_Data/mainDATA.csv')"
   ]
  },
  {
   "cell_type": "code",
   "execution_count": null,
   "metadata": {},
   "outputs": [],
   "source": []
  },
  {
   "cell_type": "code",
   "execution_count": null,
   "metadata": {},
   "outputs": [],
   "source": [
    "TOTAL_DATA_missingY = {}\n",
    "for iNOC in NOCs:\n",
    "      for iYear in ['2028']:\n",
    "            if int(iYear) in [1916 + i * 4 for i in range(1,LENN+1)]:\n",
    "                  continue\n",
    "            if int(iYear) in [1944 + i * 4 for i in range(1,LENN+1)]:\n",
    "                  continue\n",
    "            TOTAL_DATA_missingY[(iNOC,iYear)] = {}\n",
    "            \n",
    "            print(iNOC,iYear)\n",
    "\n",
    "            for i in range(1,LENN+1):\n",
    "                  TOTAL_DATA_missingY[(iNOC,iYear)]['Year-'+str(i) + '-Medals'] = GoldMedals_df[iNOC][int(iYear)-i*4]\n",
    "                  ENAS = AdvantageperNOC_mp[iNOC][str(int(iYear)-i*4)]\n",
    "                  TOTAL_DATA_missingY[(iNOC,iYear)]['Year-'+str(i) + '-ENAS'] = SportEventsSum[str(int(iYear)-i*4)][ENAS]\n",
    "            if hosts_mp[int(iYear)] == iNOC:\n",
    "                  TOTAL_DATA_missingY[(iNOC,iYear)]['if host'] = 1\n",
    "            else:\n",
    "                  TOTAL_DATA_missingY[(iNOC,iYear)]['if host'] = 0\n",
    "pd.DataFrame(TOTAL_DATA_missingY).T"
   ]
  }
 ],
 "metadata": {
  "language_info": {
   "name": "python"
  }
 },
 "nbformat": 4,
 "nbformat_minor": 2
}
